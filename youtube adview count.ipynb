{
 "cells": [
  {
   "cell_type": "code",
   "execution_count": 1,
   "id": "4918ed6d-722c-412f-977e-01ac7acd3a03",
   "metadata": {},
   "outputs": [],
   "source": [
    "import pandas as pd\n",
    "import numpy as np\n",
    "import matplotlib.pyplot as plt\n",
    "import seaborn as sns\n",
    "from sklearn.model_selection import train_test_split\n",
    "from sklearn.preprocessing import StandardScaler, LabelEncoder\n",
    "from sklearn.linear_model import LinearRegression\n",
    "from sklearn.svm import SVR\n",
    "from sklearn.tree import DecisionTreeRegressor\n",
    "from sklearn.ensemble import RandomForestRegressor\n",
    "from sklearn.metrics import mean_absolute_error, mean_squared_error, r2_score\n",
    "import tensorflow as tf\n",
    "from tensorflow.keras.models import Sequential\n",
    "from tensorflow.keras.layers import Dense, Dropout\n",
    "import joblib\n"
   ]
  },
  {
   "cell_type": "code",
   "execution_count": 3,
   "id": "2ad085d0-f29d-4b76-bff6-9a18822a04e5",
   "metadata": {},
   "outputs": [],
   "source": [
    "data = pd.read_csv('train.csv')"
   ]
  },
  {
   "cell_type": "code",
   "execution_count": 4,
   "id": "9c579424-c317-418c-8302-1428badafc41",
   "metadata": {},
   "outputs": [
    {
     "data": {
      "text/html": [
       "<div>\n",
       "<style scoped>\n",
       "    .dataframe tbody tr th:only-of-type {\n",
       "        vertical-align: middle;\n",
       "    }\n",
       "\n",
       "    .dataframe tbody tr th {\n",
       "        vertical-align: top;\n",
       "    }\n",
       "\n",
       "    .dataframe thead th {\n",
       "        text-align: right;\n",
       "    }\n",
       "</style>\n",
       "<table border=\"1\" class=\"dataframe\">\n",
       "  <thead>\n",
       "    <tr style=\"text-align: right;\">\n",
       "      <th></th>\n",
       "      <th>vidid</th>\n",
       "      <th>adview</th>\n",
       "      <th>views</th>\n",
       "      <th>likes</th>\n",
       "      <th>dislikes</th>\n",
       "      <th>comment</th>\n",
       "      <th>published</th>\n",
       "      <th>duration</th>\n",
       "      <th>category</th>\n",
       "    </tr>\n",
       "  </thead>\n",
       "  <tbody>\n",
       "    <tr>\n",
       "      <th>0</th>\n",
       "      <td>VID_18655</td>\n",
       "      <td>40</td>\n",
       "      <td>1031602</td>\n",
       "      <td>8523</td>\n",
       "      <td>363</td>\n",
       "      <td>1095</td>\n",
       "      <td>2016-09-14</td>\n",
       "      <td>PT7M37S</td>\n",
       "      <td>F</td>\n",
       "    </tr>\n",
       "    <tr>\n",
       "      <th>1</th>\n",
       "      <td>VID_14135</td>\n",
       "      <td>2</td>\n",
       "      <td>1707</td>\n",
       "      <td>56</td>\n",
       "      <td>2</td>\n",
       "      <td>6</td>\n",
       "      <td>2016-10-01</td>\n",
       "      <td>PT9M30S</td>\n",
       "      <td>D</td>\n",
       "    </tr>\n",
       "    <tr>\n",
       "      <th>2</th>\n",
       "      <td>VID_2187</td>\n",
       "      <td>1</td>\n",
       "      <td>2023</td>\n",
       "      <td>25</td>\n",
       "      <td>0</td>\n",
       "      <td>2</td>\n",
       "      <td>2016-07-02</td>\n",
       "      <td>PT2M16S</td>\n",
       "      <td>C</td>\n",
       "    </tr>\n",
       "    <tr>\n",
       "      <th>3</th>\n",
       "      <td>VID_23096</td>\n",
       "      <td>6</td>\n",
       "      <td>620860</td>\n",
       "      <td>777</td>\n",
       "      <td>161</td>\n",
       "      <td>153</td>\n",
       "      <td>2016-07-27</td>\n",
       "      <td>PT4M22S</td>\n",
       "      <td>H</td>\n",
       "    </tr>\n",
       "    <tr>\n",
       "      <th>4</th>\n",
       "      <td>VID_10175</td>\n",
       "      <td>1</td>\n",
       "      <td>666</td>\n",
       "      <td>1</td>\n",
       "      <td>0</td>\n",
       "      <td>0</td>\n",
       "      <td>2016-06-29</td>\n",
       "      <td>PT31S</td>\n",
       "      <td>D</td>\n",
       "    </tr>\n",
       "    <tr>\n",
       "      <th>...</th>\n",
       "      <td>...</td>\n",
       "      <td>...</td>\n",
       "      <td>...</td>\n",
       "      <td>...</td>\n",
       "      <td>...</td>\n",
       "      <td>...</td>\n",
       "      <td>...</td>\n",
       "      <td>...</td>\n",
       "      <td>...</td>\n",
       "    </tr>\n",
       "    <tr>\n",
       "      <th>14994</th>\n",
       "      <td>VID_31</td>\n",
       "      <td>2</td>\n",
       "      <td>525949</td>\n",
       "      <td>1137</td>\n",
       "      <td>83</td>\n",
       "      <td>86</td>\n",
       "      <td>2015-05-18</td>\n",
       "      <td>PT6M10S</td>\n",
       "      <td>A</td>\n",
       "    </tr>\n",
       "    <tr>\n",
       "      <th>14995</th>\n",
       "      <td>VID_5861</td>\n",
       "      <td>1</td>\n",
       "      <td>665673</td>\n",
       "      <td>3849</td>\n",
       "      <td>156</td>\n",
       "      <td>569</td>\n",
       "      <td>2015-10-20</td>\n",
       "      <td>PT3M56S</td>\n",
       "      <td>D</td>\n",
       "    </tr>\n",
       "    <tr>\n",
       "      <th>14996</th>\n",
       "      <td>VID_805</td>\n",
       "      <td>4</td>\n",
       "      <td>3479</td>\n",
       "      <td>16</td>\n",
       "      <td>1</td>\n",
       "      <td>1</td>\n",
       "      <td>2013-08-23</td>\n",
       "      <td>PT3M13S</td>\n",
       "      <td>B</td>\n",
       "    </tr>\n",
       "    <tr>\n",
       "      <th>14997</th>\n",
       "      <td>VID_19843</td>\n",
       "      <td>1</td>\n",
       "      <td>963</td>\n",
       "      <td>0</td>\n",
       "      <td>0</td>\n",
       "      <td>0</td>\n",
       "      <td>2010-10-02</td>\n",
       "      <td>PT26S</td>\n",
       "      <td>G</td>\n",
       "    </tr>\n",
       "    <tr>\n",
       "      <th>14998</th>\n",
       "      <td>VID_8534</td>\n",
       "      <td>1</td>\n",
       "      <td>15212</td>\n",
       "      <td>22</td>\n",
       "      <td>5</td>\n",
       "      <td>4</td>\n",
       "      <td>2016-02-19</td>\n",
       "      <td>PT1M1S</td>\n",
       "      <td>D</td>\n",
       "    </tr>\n",
       "  </tbody>\n",
       "</table>\n",
       "<p>14999 rows × 9 columns</p>\n",
       "</div>"
      ],
      "text/plain": [
       "           vidid  adview    views likes dislikes comment   published duration  \\\n",
       "0      VID_18655      40  1031602  8523      363    1095  2016-09-14  PT7M37S   \n",
       "1      VID_14135       2     1707    56        2       6  2016-10-01  PT9M30S   \n",
       "2       VID_2187       1     2023    25        0       2  2016-07-02  PT2M16S   \n",
       "3      VID_23096       6   620860   777      161     153  2016-07-27  PT4M22S   \n",
       "4      VID_10175       1      666     1        0       0  2016-06-29    PT31S   \n",
       "...          ...     ...      ...   ...      ...     ...         ...      ...   \n",
       "14994     VID_31       2   525949  1137       83      86  2015-05-18  PT6M10S   \n",
       "14995   VID_5861       1   665673  3849      156     569  2015-10-20  PT3M56S   \n",
       "14996    VID_805       4     3479    16        1       1  2013-08-23  PT3M13S   \n",
       "14997  VID_19843       1      963     0        0       0  2010-10-02    PT26S   \n",
       "14998   VID_8534       1    15212    22        5       4  2016-02-19   PT1M1S   \n",
       "\n",
       "      category  \n",
       "0            F  \n",
       "1            D  \n",
       "2            C  \n",
       "3            H  \n",
       "4            D  \n",
       "...        ...  \n",
       "14994        A  \n",
       "14995        D  \n",
       "14996        B  \n",
       "14997        G  \n",
       "14998        D  \n",
       "\n",
       "[14999 rows x 9 columns]"
      ]
     },
     "execution_count": 4,
     "metadata": {},
     "output_type": "execute_result"
    }
   ],
   "source": [
    "data"
   ]
  },
  {
   "cell_type": "code",
   "execution_count": 5,
   "id": "f8561e9a-0e69-4634-ba2e-4de097699e9a",
   "metadata": {},
   "outputs": [
    {
     "name": "stdout",
     "output_type": "stream",
     "text": [
      "(14999, 9)\n",
      "vidid        object\n",
      "adview        int64\n",
      "views        object\n",
      "likes        object\n",
      "dislikes     object\n",
      "comment      object\n",
      "published    object\n",
      "duration     object\n",
      "category     object\n",
      "dtype: object\n"
     ]
    }
   ],
   "source": [
    "print(data.shape)\n",
    "print(data.dtypes)"
   ]
  },
  {
   "cell_type": "code",
   "execution_count": 6,
   "id": "5b39c759-d63d-40b5-b6cc-3634ab7a52ec",
   "metadata": {},
   "outputs": [],
   "source": [
    "data = data.dropna()\n"
   ]
  },
  {
   "cell_type": "code",
   "execution_count": 7,
   "id": "c385e7d4-77cc-4c9c-a429-59073f687af6",
   "metadata": {},
   "outputs": [],
   "source": [
    "data['published'] = pd.to_datetime(data['published'], errors='coerce')\n",
    "data['publish_year'] = data['published'].dt.year\n",
    "data['publish_month'] = data['published'].dt.month\n",
    "data['publish_day'] = data['published'].dt.day\n",
    "data = data.drop(columns=['published', 'vidid'])"
   ]
  },
  {
   "cell_type": "code",
   "execution_count": 8,
   "id": "bd50ecd0-e888-451f-bb63-4447f774e8c6",
   "metadata": {},
   "outputs": [],
   "source": [
    "label_encoder = LabelEncoder()\n",
    "data['category'] = label_encoder.fit_transform(data['category'])"
   ]
  },
  {
   "cell_type": "code",
   "execution_count": 9,
   "id": "a10b3498-8fb6-41e0-8b1b-86671b31aa43",
   "metadata": {},
   "outputs": [],
   "source": [
    "numeric_data = data.select_dtypes(include=[np.number])"
   ]
  },
  {
   "cell_type": "code",
   "execution_count": 10,
   "id": "7b5f0bb2-7b09-423c-9904-211ae82bf4f8",
   "metadata": {},
   "outputs": [
    {
     "data": {
      "image/png": "[encoded data removed]",
      "text/plain": [
       "<Figure size 1000x800 with 2 Axes>"
      ]
     },
     "metadata": {},
     "output_type": "display_data"
    }
   ],
   "source": [
    "plt.figure(figsize=(10, 8))\n",
    "sns.heatmap(numeric_data.corr(), annot=True, cmap='coolwarm')\n",
    "plt.show()"
   ]
  },
  {
   "cell_type": "code",
   "execution_count": 11,
   "id": "6f7967ff-d23d-40e7-bb61-cf45c3e10844",
   "metadata": {},
   "outputs": [],
   "source": [
    "features = data.drop(columns=['adview'])\n",
    "target = data['adview']"
   ]
  },
  {
   "cell_type": "code",
   "execution_count": 12,
   "id": "632193c2-7f49-4d4b-999f-7164ff071d0b",
   "metadata": {},
   "outputs": [
    {
     "name": "stdout",
     "output_type": "stream",
     "text": [
      "Column views is not numeric. Converting...\n",
      "Column likes is not numeric. Converting...\n",
      "Column dislikes is not numeric. Converting...\n",
      "Column comment is not numeric. Converting...\n",
      "Column duration is not numeric. Converting...\n"
     ]
    }
   ],
   "source": [
    "for column in features.columns:\n",
    "    if features[column].dtype == 'object':\n",
    "        print(f\"Column {column} is not numeric. Converting...\")\n",
    "        features[column] = label_encoder.fit_transform(features[column])"
   ]
  },
  {
   "cell_type": "code",
   "execution_count": 13,
   "id": "fd48041a-4519-4ad9-a982-fe44b09b11a4",
   "metadata": {},
   "outputs": [],
   "source": [
    "scaler = StandardScaler()\n",
    "features_scaled = scaler.fit_transform(features)"
   ]
  },
  {
   "cell_type": "code",
   "execution_count": 14,
   "id": "2049eaa3-58d7-4a84-a664-e3015cc77e58",
   "metadata": {},
   "outputs": [],
   "source": [
    "X_train, X_test, y_train, y_test = train_test_split(features_scaled, target, test_size=0.15, random_state=42)\n"
   ]
  },
  {
   "cell_type": "code",
   "execution_count": 15,
   "id": "7fc0455f-dd86-4e71-a5e7-dd757559f8de",
   "metadata": {},
   "outputs": [],
   "source": [
    "def evaluate_model(model, X_train, y_train, X_test, y_test):\n",
    "    model.fit(X_train, y_train)\n",
    "    predictions = model.predict(X_test)\n",
    "    mae = mean_absolute_error(y_test, predictions)\n",
    "    mse = mean_squared_error(y_test, predictions)\n",
    "    r2 = r2_score(y_test, predictions)\n",
    "    return mae, mse, r2"
   ]
  },
  {
   "cell_type": "code",
   "execution_count": 16,
   "id": "fb78c766-3f9c-4171-ba8e-7183a0c59200",
   "metadata": {},
   "outputs": [],
   "source": [
    "lr = LinearRegression()\n",
    "lr_mae, lr_mse, lr_r2 = evaluate_model(lr, X_train, y_train, X_test, y_test)"
   ]
  },
  {
   "cell_type": "code",
   "execution_count": 17,
   "id": "83b77506-2513-4b70-8bbd-67f3e84a4e89",
   "metadata": {},
   "outputs": [],
   "source": [
    "svr = SVR(kernel='rbf')\n",
    "svr_mae, svr_mse, svr_r2 = evaluate_model(svr, X_train, y_train, X_test, y_test)"
   ]
  },
  {
   "cell_type": "code",
   "execution_count": 18,
   "id": "6255d501-c501-4b51-be48-66a935c2f8d8",
   "metadata": {},
   "outputs": [],
   "source": [
    "dt = DecisionTreeRegressor(random_state=42)\n",
    "dt_mae, dt_mse, dt_r2 = evaluate_model(dt, X_train, y_train, X_test, y_test)"
   ]
  },
  {
   "cell_type": "code",
   "execution_count": 19,
   "id": "3f80e7ca-0591-4653-8038-268536e074c4",
   "metadata": {},
   "outputs": [],
   "source": [
    "rf = RandomForestRegressor(n_estimators=100, random_state=42)\n",
    "rf_mae, rf_mse, rf_r2 = evaluate_model(rf, X_train, y_train, X_test, y_test)"
   ]
  },
  {
   "cell_type": "code",
   "execution_count": 20,
   "id": "39fffe21-10f8-4b93-9a45-1127ac1ebed6",
   "metadata": {},
   "outputs": [
    {
     "name": "stderr",
     "output_type": "stream",
     "text": [
      "C:\\Users\\user\\anaconda3\\Lib\\site-packages\\keras\\src\\layers\\core\\dense.py:87: UserWarning: Do not pass an `input_shape`/`input_dim` argument to a layer. When using Sequential models, prefer using an `Input(shape)` object as the first layer in the model instead.\n",
      "  super().__init__(activity_regularizer=activity_regularizer, **kwargs)\n"
     ]
    }
   ],
   "source": [
    "ann = Sequential()\n",
    "ann.add(Dense(64, input_dim=X_train.shape[1], activation='relu'))\n",
    "ann.add(Dropout(0.2))\n",
    "ann.add(Dense(32, activation='relu'))\n",
    "ann.add(Dropout(0.2))\n",
    "ann.add(Dense(1))"
   ]
  },
  {
   "cell_type": "code",
   "execution_count": 21,
   "id": "c92906bc-2ce6-483c-b0e0-2d5385624c0c",
   "metadata": {},
   "outputs": [
    {
     "name": "stdout",
     "output_type": "stream",
     "text": [
      "Epoch 1/50\n",
      "\u001b[1m319/319\u001b[0m \u001b[32m━━━━━━━━━━━━━━━━━━━━\u001b[0m\u001b[37m\u001b[0m \u001b[1m7s\u001b[0m 5ms/step - loss: 1203073408.0000 - val_loss: 1045314496.0000\n",
      "Epoch 2/50\n",
      "\u001b[1m319/319\u001b[0m \u001b[32m━━━━━━━━━━━━━━━━━━━━\u001b[0m\u001b[37m\u001b[0m \u001b[1m1s\u001b[0m 4ms/step - loss: 1031107648.0000 - val_loss: 1045125248.0000\n",
      "Epoch 3/50\n",
      "\u001b[1m319/319\u001b[0m \u001b[32m━━━━━━━━━━━━━━━━━━━━\u001b[0m\u001b[37m\u001b[0m \u001b[1m1s\u001b[0m 3ms/step - loss: 939305728.0000 - val_loss: 1044621504.0000\n",
      "Epoch 4/50\n",
      "\u001b[1m319/319\u001b[0m \u001b[32m━━━━━━━━━━━━━━━━━━━━\u001b[0m\u001b[37m\u001b[0m \u001b[1m1s\u001b[0m 3ms/step - loss: 814978112.0000 - val_loss: 1043718848.0000\n",
      "Epoch 5/50\n",
      "\u001b[1m319/319\u001b[0m \u001b[32m━━━━━━━━━━━━━━━━━━━━\u001b[0m\u001b[37m\u001b[0m \u001b[1m1s\u001b[0m 4ms/step - loss: 309345664.0000 - val_loss: 1042403264.0000\n",
      "Epoch 6/50\n",
      "\u001b[1m319/319\u001b[0m \u001b[32m━━━━━━━━━━━━━━━━━━━━\u001b[0m\u001b[37m\u001b[0m \u001b[1m1s\u001b[0m 4ms/step - loss: 832172352.0000 - val_loss: 1041295168.0000\n",
      "Epoch 7/50\n",
      "\u001b[1m319/319\u001b[0m \u001b[32m━━━━━━━━━━━━━━━━━━━━\u001b[0m\u001b[37m\u001b[0m \u001b[1m1s\u001b[0m 4ms/step - loss: 1136868736.0000 - val_loss: 1040376448.0000\n",
      "Epoch 8/50\n",
      "\u001b[1m319/319\u001b[0m \u001b[32m━━━━━━━━━━━━━━━━━━━━\u001b[0m\u001b[37m\u001b[0m \u001b[1m1s\u001b[0m 4ms/step - loss: 290204128.0000 - val_loss: 1039590720.0000\n",
      "Epoch 9/50\n",
      "\u001b[1m319/319\u001b[0m \u001b[32m━━━━━━━━━━━━━━━━━━━━\u001b[0m\u001b[37m\u001b[0m \u001b[1m2s\u001b[0m 4ms/step - loss: 1358922880.0000 - val_loss: 1039085184.0000\n",
      "Epoch 10/50\n",
      "\u001b[1m319/319\u001b[0m \u001b[32m━━━━━━━━━━━━━━━━━━━━\u001b[0m\u001b[37m\u001b[0m \u001b[1m1s\u001b[0m 3ms/step - loss: 273827008.0000 - val_loss: 1038681472.0000\n",
      "Epoch 11/50\n",
      "\u001b[1m319/319\u001b[0m \u001b[32m━━━━━━━━━━━━━━━━━━━━\u001b[0m\u001b[37m\u001b[0m \u001b[1m1s\u001b[0m 4ms/step - loss: 429846848.0000 - val_loss: 1038440768.0000\n",
      "Epoch 12/50\n",
      "\u001b[1m319/319\u001b[0m \u001b[32m━━━━━━━━━━━━━━━━━━━━\u001b[0m\u001b[37m\u001b[0m \u001b[1m1s\u001b[0m 4ms/step - loss: 478280928.0000 - val_loss: 1038224576.0000\n",
      "Epoch 13/50\n",
      "\u001b[1m319/319\u001b[0m \u001b[32m━━━━━━━━━━━━━━━━━━━━\u001b[0m\u001b[37m\u001b[0m \u001b[1m1s\u001b[0m 4ms/step - loss: 797902464.0000 - val_loss: 1038111616.0000\n",
      "Epoch 14/50\n",
      "\u001b[1m319/319\u001b[0m \u001b[32m━━━━━━━━━━━━━━━━━━━━\u001b[0m\u001b[37m\u001b[0m \u001b[1m1s\u001b[0m 4ms/step - loss: 373197056.0000 - val_loss: 1037994944.0000\n",
      "Epoch 15/50\n",
      "\u001b[1m319/319\u001b[0m \u001b[32m━━━━━━━━━━━━━━━━━━━━\u001b[0m\u001b[37m\u001b[0m \u001b[1m1s\u001b[0m 4ms/step - loss: 704069376.0000 - val_loss: 1037911808.0000\n",
      "Epoch 16/50\n",
      "\u001b[1m319/319\u001b[0m \u001b[32m━━━━━━━━━━━━━━━━━━━━\u001b[0m\u001b[37m\u001b[0m \u001b[1m1s\u001b[0m 4ms/step - loss: 344936000.0000 - val_loss: 1037812800.0000\n",
      "Epoch 17/50\n",
      "\u001b[1m319/319\u001b[0m \u001b[32m━━━━━━━━━━━━━━━━━━━━\u001b[0m\u001b[37m\u001b[0m \u001b[1m1s\u001b[0m 4ms/step - loss: 662209408.0000 - val_loss: 1037743616.0000\n",
      "Epoch 18/50\n",
      "\u001b[1m319/319\u001b[0m \u001b[32m━━━━━━━━━━━━━━━━━━━━\u001b[0m\u001b[37m\u001b[0m \u001b[1m1s\u001b[0m 4ms/step - loss: 888685952.0000 - val_loss: 1037649024.0000\n",
      "Epoch 19/50\n",
      "\u001b[1m319/319\u001b[0m \u001b[32m━━━━━━━━━━━━━━━━━━━━\u001b[0m\u001b[37m\u001b[0m \u001b[1m1s\u001b[0m 4ms/step - loss: 556499008.0000 - val_loss: 1037583104.0000\n",
      "Epoch 20/50\n",
      "\u001b[1m319/319\u001b[0m \u001b[32m━━━━━━━━━━━━━━━━━━━━\u001b[0m\u001b[37m\u001b[0m \u001b[1m1s\u001b[0m 4ms/step - loss: 1397092992.0000 - val_loss: 1037531840.0000\n",
      "Epoch 21/50\n",
      "\u001b[1m319/319\u001b[0m \u001b[32m━━━━━━━━━━━━━━━━━━━━\u001b[0m\u001b[37m\u001b[0m \u001b[1m1s\u001b[0m 4ms/step - loss: 550645056.0000 - val_loss: 1037497664.0000\n",
      "Epoch 22/50\n",
      "\u001b[1m319/319\u001b[0m \u001b[32m━━━━━━━━━━━━━━━━━━━━\u001b[0m\u001b[37m\u001b[0m \u001b[1m1s\u001b[0m 4ms/step - loss: 372828832.0000 - val_loss: 1037419968.0000\n",
      "Epoch 23/50\n",
      "\u001b[1m319/319\u001b[0m \u001b[32m━━━━━━━━━━━━━━━━━━━━\u001b[0m\u001b[37m\u001b[0m \u001b[1m1s\u001b[0m 4ms/step - loss: 615899520.0000 - val_loss: 1037413696.0000\n",
      "Epoch 24/50\n",
      "\u001b[1m319/319\u001b[0m \u001b[32m━━━━━━━━━━━━━━━━━━━━\u001b[0m\u001b[37m\u001b[0m \u001b[1m1s\u001b[0m 4ms/step - loss: 325668384.0000 - val_loss: 1037368704.0000\n",
      "Epoch 25/50\n",
      "\u001b[1m319/319\u001b[0m \u001b[32m━━━━━━━━━━━━━━━━━━━━\u001b[0m\u001b[37m\u001b[0m \u001b[1m1s\u001b[0m 4ms/step - loss: 754711616.0000 - val_loss: 1037332416.0000\n",
      "Epoch 26/50\n",
      "\u001b[1m319/319\u001b[0m \u001b[32m━━━━━━━━━━━━━━━━━━━━\u001b[0m\u001b[37m\u001b[0m \u001b[1m1s\u001b[0m 4ms/step - loss: 711158656.0000 - val_loss: 1037295488.0000\n",
      "Epoch 27/50\n",
      "\u001b[1m319/319\u001b[0m \u001b[32m━━━━━━━━━━━━━━━━━━━━\u001b[0m\u001b[37m\u001b[0m \u001b[1m1s\u001b[0m 4ms/step - loss: 317267360.0000 - val_loss: 1037247360.0000\n",
      "Epoch 28/50\n",
      "\u001b[1m319/319\u001b[0m \u001b[32m━━━━━━━━━━━━━━━━━━━━\u001b[0m\u001b[37m\u001b[0m \u001b[1m1s\u001b[0m 4ms/step - loss: 486958496.0000 - val_loss: 1037192576.0000\n",
      "Epoch 29/50\n",
      "\u001b[1m319/319\u001b[0m \u001b[32m━━━━━━━━━━━━━━━━━━━━\u001b[0m\u001b[37m\u001b[0m \u001b[1m1s\u001b[0m 4ms/step - loss: 580329600.0000 - val_loss: 1037211264.0000\n",
      "Epoch 30/50\n",
      "\u001b[1m319/319\u001b[0m \u001b[32m━━━━━━━━━━━━━━━━━━━━\u001b[0m\u001b[37m\u001b[0m \u001b[1m3s\u001b[0m 4ms/step - loss: 524096192.0000 - val_loss: 1037149504.0000\n",
      "Epoch 31/50\n",
      "\u001b[1m319/319\u001b[0m \u001b[32m━━━━━━━━━━━━━━━━━━━━\u001b[0m\u001b[37m\u001b[0m \u001b[1m2s\u001b[0m 4ms/step - loss: 1026393344.0000 - val_loss: 1037181504.0000\n",
      "Epoch 32/50\n",
      "\u001b[1m319/319\u001b[0m \u001b[32m━━━━━━━━━━━━━━━━━━━━\u001b[0m\u001b[37m\u001b[0m \u001b[1m1s\u001b[0m 4ms/step - loss: 505133536.0000 - val_loss: 1037131072.0000\n",
      "Epoch 33/50\n",
      "\u001b[1m319/319\u001b[0m \u001b[32m━━━━━━━━━━━━━━━━━━━━\u001b[0m\u001b[37m\u001b[0m \u001b[1m1s\u001b[0m 4ms/step - loss: 687225152.0000 - val_loss: 1037088512.0000\n",
      "Epoch 34/50\n",
      "\u001b[1m319/319\u001b[0m \u001b[32m━━━━━━━━━━━━━━━━━━━━\u001b[0m\u001b[37m\u001b[0m \u001b[1m1s\u001b[0m 4ms/step - loss: 473274016.0000 - val_loss: 1037085760.0000\n",
      "Epoch 35/50\n",
      "\u001b[1m319/319\u001b[0m \u001b[32m━━━━━━━━━━━━━━━━━━━━\u001b[0m\u001b[37m\u001b[0m \u001b[1m1s\u001b[0m 4ms/step - loss: 317117440.0000 - val_loss: 1037029632.0000\n",
      "Epoch 36/50\n",
      "\u001b[1m319/319\u001b[0m \u001b[32m━━━━━━━━━━━━━━━━━━━━\u001b[0m\u001b[37m\u001b[0m \u001b[1m1s\u001b[0m 4ms/step - loss: 384573408.0000 - val_loss: 1036984640.0000\n",
      "Epoch 37/50\n",
      "\u001b[1m319/319\u001b[0m \u001b[32m━━━━━━━━━━━━━━━━━━━━\u001b[0m\u001b[37m\u001b[0m \u001b[1m1s\u001b[0m 4ms/step - loss: 423214944.0000 - val_loss: 1036918720.0000\n",
      "Epoch 38/50\n",
      "\u001b[1m319/319\u001b[0m \u001b[32m━━━━━━━━━━━━━━━━━━━━\u001b[0m\u001b[37m\u001b[0m \u001b[1m1s\u001b[0m 4ms/step - loss: 593198592.0000 - val_loss: 1036908352.0000\n",
      "Epoch 39/50\n",
      "\u001b[1m319/319\u001b[0m \u001b[32m━━━━━━━━━━━━━━━━━━━━\u001b[0m\u001b[37m\u001b[0m \u001b[1m1s\u001b[0m 4ms/step - loss: 1252705792.0000 - val_loss: 1036939904.0000\n",
      "Epoch 40/50\n",
      "\u001b[1m319/319\u001b[0m \u001b[32m━━━━━━━━━━━━━━━━━━━━\u001b[0m\u001b[37m\u001b[0m \u001b[1m1s\u001b[0m 4ms/step - loss: 369742400.0000 - val_loss: 1036886336.0000\n",
      "Epoch 41/50\n",
      "\u001b[1m319/319\u001b[0m \u001b[32m━━━━━━━━━━━━━━━━━━━━\u001b[0m\u001b[37m\u001b[0m \u001b[1m1s\u001b[0m 4ms/step - loss: 499794720.0000 - val_loss: 1036874496.0000\n",
      "Epoch 42/50\n",
      "\u001b[1m319/319\u001b[0m \u001b[32m━━━━━━━━━━━━━━━━━━━━\u001b[0m\u001b[37m\u001b[0m \u001b[1m1s\u001b[0m 4ms/step - loss: 610043456.0000 - val_loss: 1036861568.0000\n",
      "Epoch 43/50\n",
      "\u001b[1m319/319\u001b[0m \u001b[32m━━━━━━━━━━━━━━━━━━━━\u001b[0m\u001b[37m\u001b[0m \u001b[1m3s\u001b[0m 4ms/step - loss: 594902592.0000 - val_loss: 1036838720.0000\n",
      "Epoch 44/50\n",
      "\u001b[1m319/319\u001b[0m \u001b[32m━━━━━━━━━━━━━━━━━━━━\u001b[0m\u001b[37m\u001b[0m \u001b[1m1s\u001b[0m 4ms/step - loss: 1207588736.0000 - val_loss: 1036806144.0000\n",
      "Epoch 45/50\n",
      "\u001b[1m319/319\u001b[0m \u001b[32m━━━━━━━━━━━━━━━━━━━━\u001b[0m\u001b[37m\u001b[0m \u001b[1m1s\u001b[0m 4ms/step - loss: 486634368.0000 - val_loss: 1036764480.0000\n",
      "Epoch 46/50\n",
      "\u001b[1m319/319\u001b[0m \u001b[32m━━━━━━━━━━━━━━━━━━━━\u001b[0m\u001b[37m\u001b[0m \u001b[1m1s\u001b[0m 4ms/step - loss: 715231168.0000 - val_loss: 1036732160.0000\n",
      "Epoch 47/50\n",
      "\u001b[1m319/319\u001b[0m \u001b[32m━━━━━━━━━━━━━━━━━━━━\u001b[0m\u001b[37m\u001b[0m \u001b[1m1s\u001b[0m 4ms/step - loss: 1231753856.0000 - val_loss: 1036716288.0000\n",
      "Epoch 48/50\n",
      "\u001b[1m319/319\u001b[0m \u001b[32m━━━━━━━━━━━━━━━━━━━━\u001b[0m\u001b[37m\u001b[0m \u001b[1m1s\u001b[0m 4ms/step - loss: 891762240.0000 - val_loss: 1036710528.0000\n",
      "Epoch 49/50\n",
      "\u001b[1m319/319\u001b[0m \u001b[32m━━━━━━━━━━━━━━━━━━━━\u001b[0m\u001b[37m\u001b[0m \u001b[1m1s\u001b[0m 4ms/step - loss: 1019424128.0000 - val_loss: 1036702080.0000\n",
      "Epoch 50/50\n",
      "\u001b[1m319/319\u001b[0m \u001b[32m━━━━━━━━━━━━━━━━━━━━\u001b[0m\u001b[37m\u001b[0m \u001b[1m1s\u001b[0m 4ms/step - loss: 679831808.0000 - val_loss: 1036678080.0000\n"
     ]
    }
   ],
   "source": [
    "ann.compile(optimizer='adam', loss='mean_squared_error')\n",
    "history = ann.fit(X_train, y_train, epochs=50, batch_size=32, validation_split=0.2)"
   ]
  },
  {
   "cell_type": "code",
   "execution_count": 22,
   "id": "5417da58-234b-4fca-a248-9d52e717c4c8",
   "metadata": {},
   "outputs": [
    {
     "name": "stdout",
     "output_type": "stream",
     "text": [
      "\u001b[1m71/71\u001b[0m \u001b[32m━━━━━━━━━━━━━━━━━━━━\u001b[0m\u001b[37m\u001b[0m \u001b[1m0s\u001b[0m 4ms/step\n"
     ]
    }
   ],
   "source": [
    "ann_predictions = ann.predict(X_test)\n",
    "ann_mae = mean_absolute_error(y_test, ann_predictions)\n",
    "ann_mse = mean_squared_error(y_test, ann_predictions)\n",
    "ann_r2 = r2_score(y_test, ann_predictions)"
   ]
  },
  {
   "cell_type": "code",
   "execution_count": 23,
   "id": "fde6558a-21a2-4181-bbd3-dfd97e63dda1",
   "metadata": {},
   "outputs": [
    {
     "name": "stdout",
     "output_type": "stream",
     "text": [
      "Linear Regression: MAE = 6125.2376, MSE = 14235462327.7719, R2 = 0.0004\n",
      "Support Vector Regressor: MAE = 4243.5756, MSE = 14259562189.4036, R2 = -0.0013\n",
      "Decision Tree Regressor: MAE = 5606.9324, MSE = 14450524958.3156, R2 = -0.0147\n",
      "Random Forest Regressor: MAE = 5798.0211, MSE = 14238743869.4806, R2 = 0.0002\n",
      "Artificial Neural Network: MAE = 5811.5573, MSE = 14229935526.1298, R2 = 0.0008\n"
     ]
    }
   ],
   "source": [
    "print(\"Linear Regression: MAE = {:.4f}, MSE = {:.4f}, R2 = {:.4f}\".format(lr_mae, lr_mse, lr_r2))\n",
    "print(\"Support Vector Regressor: MAE = {:.4f}, MSE = {:.4f}, R2 = {:.4f}\".format(svr_mae, svr_mse, svr_r2))\n",
    "print(\"Decision Tree Regressor: MAE = {:.4f}, MSE = {:.4f}, R2 = {:.4f}\".format(dt_mae, dt_mse, dt_r2))\n",
    "print(\"Random Forest Regressor: MAE = {:.4f}, MSE = {:.4f}, R2 = {:.4f}\".format(rf_mae, rf_mse, rf_r2))\n",
    "print(\"Artificial Neural Network: MAE = {:.4f}, MSE = {:.4f}, R2 = {:.4f}\".format(ann_mae, ann_mse, ann_r2))"
   ]
  },
  {
   "cell_type": "code",
   "execution_count": 24,
   "id": "e75b88e6-1e18-431c-aa19-7d8c2da6104b",
   "metadata": {},
   "outputs": [
    {
     "data": {
      "text/plain": [
       "['best_model_rf.pkl']"
      ]
     },
     "execution_count": 24,
     "metadata": {},
     "output_type": "execute_result"
    }
   ],
   "source": [
    "joblib.dump(rf, 'best_model_rf.pkl')"
   ]
  },
  {
   "cell_type": "code",
   "execution_count": 25,
   "id": "2cea28b1-28fe-42f7-9ac8-f1a751abaa40",
   "metadata": {},
   "outputs": [],
   "source": [
    "best_model = joblib.load('best_model_rf.pkl')\n",
    "test_predictions = best_model.predict(X_test)"
   ]
  },
  {
   "cell_type": "code",
   "execution_count": 26,
   "id": "ec23837c-a9c1-4fdc-b864-24ab8f9ee53d",
   "metadata": {},
   "outputs": [],
   "source": [
    "final_mae = mean_absolute_error(y_test, test_predictions)\n",
    "final_mse = mean_squared_error(y_test, test_predictions)\n",
    "final_r2 = r2_score(y_test, test_predictions)"
   ]
  },
  {
   "cell_type": "code",
   "execution_count": 27,
   "id": "c76976d7-b677-4b4a-8961-4173b666252a",
   "metadata": {},
   "outputs": [
    {
     "name": "stdout",
     "output_type": "stream",
     "text": [
      "Final Model Evaluation: MAE = 5798.0211, MSE = 14238743869.4806, R2 = 0.0002\n"
     ]
    }
   ],
   "source": [
    "print(\"Final Model Evaluation: MAE = {:.4f}, MSE = {:.4f}, R2 = {:.4f}\".format(final_mae, final_mse, final_r2))"
   ]
  },
  {
   "cell_type": "code",
   "execution_count": null,
   "id": "0146fe4d-6986-43a8-a144-9fb6048c7816",
   "metadata": {},
   "outputs": [],
   "source": []
  }
 ],
 "metadata": {
  "kernelspec": {
   "display_name": "Python 3 (ipykernel)",
   "language": "python",
   "name": "python3"
  },
  "language_info": {
   "codemirror_mode": {
    "name": "ipython",
    "version": 3
   },
   "file_extension": ".py",
   "mimetype": "text/x-python",
   "name": "python",
   "nbconvert_exporter": "python",
   "pygments_lexer": "ipython3",
   "version": "3.11.7"
  }
 },
 "nbformat": 4,
 "nbformat_minor": 5
}
